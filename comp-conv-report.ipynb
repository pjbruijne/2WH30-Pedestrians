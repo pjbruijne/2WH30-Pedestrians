{
 "cells": [
  {
   "cell_type": "code",
   "execution_count": null,
   "metadata": {},
   "outputs": [],
   "source": [
    "import matplotlib.pyplot as plt\n",
    "import numpy as np\n",
    "\n",
    "from ising.checkerboard import simulate as simulate_checkerboard\n",
    "from ising.metropolis import simulate as simulate_metropolis\n",
    "\n",
    "from ising.data_farm import magnetization_from_lattices, magnetization_convergence\n",
    "from ising.lattices import square_random_lattice as random_lattice"
   ]
  }
 ],
 "metadata": {
  "language_info": {
   "name": "python"
  }
 },
 "nbformat": 4,
 "nbformat_minor": 2
}
