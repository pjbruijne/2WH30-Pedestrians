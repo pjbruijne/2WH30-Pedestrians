{
 "cells": [
  {
   "cell_type": "code",
   "execution_count": 1,
   "metadata": {},
   "outputs": [],
   "source": [
    "from ising.lattices import square_random_lattice\n",
    "from ising.checkerboard import simulate\n",
    "from ising.visualize import lattices_to_images, upscale_lattices, display_experiment, save_gif\n",
    "import matplotlib.pyplot as plt\n",
    "import numpy as np\n",
    "import ising.plot_styling"
   ]
  },
  {
   "cell_type": "code",
   "execution_count": 2,
   "metadata": {},
   "outputs": [],
   "source": [
    "N, M = 150, 150\n",
    "UP_SCALE = 2\n",
    "STEPS = 1000\n",
    "h_J = 0\n",
    "save = False\n",
    "lattice = square_random_lattice(N, M, states=[-1, -1, 1, 1, 1])"
   ]
  },
  {
   "cell_type": "code",
   "execution_count": 18,
   "metadata": {},
   "outputs": [
    {
     "data": {
      "application/vnd.jupyter.widget-view+json": {
       "model_id": "6e6666342dfd4467b4c0178007e606fe",
       "version_major": 2,
       "version_minor": 0
      },
      "text/plain": [
       "interactive(children=(IntSlider(value=499, description='frame', max=999), Output()), _dom_classes=('widget-int…"
      ]
     },
     "metadata": {},
     "output_type": "display_data"
    }
   ],
   "source": [
    "T = 0.1\n",
    "lattices = simulate(lattice=lattice.copy(), h_J=h_J, T=T, steps=STEPS)\n",
    "lattices[:,0,0] = -np.ones(1000) + 2*np.ones(1000)*(np.arange(1000) % 2==0)\n",
    "gif = lattices_to_images(upscale_lattices(lattices, UP_SCALE))\n",
    "display_experiment(gif)\n",
    "if save:\n",
    "    save_gif(gif, f\"final-presentation/h_J={h_J}-T={T}\")"
   ]
  },
  {
   "cell_type": "code",
   "execution_count": 4,
   "metadata": {},
   "outputs": [
    {
     "data": {
      "application/vnd.jupyter.widget-view+json": {
       "model_id": "1347d5401da94efb82734d6c6132822c",
       "version_major": 2,
       "version_minor": 0
      },
      "text/plain": [
       "interactive(children=(IntSlider(value=499, description='frame', max=999), Output()), _dom_classes=('widget-int…"
      ]
     },
     "metadata": {},
     "output_type": "display_data"
    }
   ],
   "source": [
    "T = 1\n",
    "lattices = simulate(lattice=lattice.copy(), h_J=h_J, T=T, steps=STEPS)\n",
    "\n",
    "gif = lattices_to_images(upscale_lattices(lattices, UP_SCALE))\n",
    "display_experiment(gif)\n",
    "if save:\n",
    "    save_gif(gif, f\"final-presentation/h_J={h_J}-T={T}\")"
   ]
  },
  {
   "cell_type": "code",
   "execution_count": 5,
   "metadata": {},
   "outputs": [
    {
     "data": {
      "application/vnd.jupyter.widget-view+json": {
       "model_id": "2dc56fadf98b48f79303dc5874b825c0",
       "version_major": 2,
       "version_minor": 0
      },
      "text/plain": [
       "interactive(children=(IntSlider(value=499, description='frame', max=999), Output()), _dom_classes=('widget-int…"
      ]
     },
     "metadata": {},
     "output_type": "display_data"
    }
   ],
   "source": [
    "T = 2\n",
    "lattices = simulate(lattice=lattice.copy(), h_J=h_J, T=T, steps=STEPS)\n",
    "\n",
    "gif = lattices_to_images(upscale_lattices(lattices, UP_SCALE))\n",
    "display_experiment(gif)\n",
    "if save:\n",
    "    save_gif(gif, f\"final-presentation/h_J={h_J}-T={T}\")"
   ]
  },
  {
   "cell_type": "code",
   "execution_count": 6,
   "metadata": {},
   "outputs": [
    {
     "data": {
      "application/vnd.jupyter.widget-view+json": {
       "model_id": "b734ed5cd0bb4e26ac95f08e3246a613",
       "version_major": 2,
       "version_minor": 0
      },
      "text/plain": [
       "interactive(children=(IntSlider(value=499, description='frame', max=999), Output()), _dom_classes=('widget-int…"
      ]
     },
     "metadata": {},
     "output_type": "display_data"
    }
   ],
   "source": [
    "T = 2.2\n",
    "lattices = simulate(lattice=lattice.copy(), h_J=h_J, T=T, steps=STEPS)\n",
    "\n",
    "gif = lattices_to_images(upscale_lattices(lattices, UP_SCALE))\n",
    "display_experiment(gif)\n",
    "if save:\n",
    "    save_gif(gif, f\"final-presentation/h_J={h_J}-T={T}\")"
   ]
  },
  {
   "cell_type": "code",
   "execution_count": 7,
   "metadata": {},
   "outputs": [
    {
     "data": {
      "application/vnd.jupyter.widget-view+json": {
       "model_id": "d0771a5829ca46dda7c7845ff494c28e",
       "version_major": 2,
       "version_minor": 0
      },
      "text/plain": [
       "interactive(children=(IntSlider(value=499, description='frame', max=999), Output()), _dom_classes=('widget-int…"
      ]
     },
     "metadata": {},
     "output_type": "display_data"
    }
   ],
   "source": [
    "T = 2.3\n",
    "lattices = simulate(lattice=lattice.copy(), h_J=h_J, T=T, steps=STEPS)\n",
    "\n",
    "gif = lattices_to_images(upscale_lattices(lattices, UP_SCALE))\n",
    "display_experiment(gif)\n",
    "if save:\n",
    "    save_gif(gif, f\"final-presentation/h_J={h_J}-T={T}\")"
   ]
  },
  {
   "cell_type": "code",
   "execution_count": 8,
   "metadata": {},
   "outputs": [
    {
     "data": {
      "application/vnd.jupyter.widget-view+json": {
       "model_id": "ced00e108e83422884fbeec859a3cd7f",
       "version_major": 2,
       "version_minor": 0
      },
      "text/plain": [
       "interactive(children=(IntSlider(value=499, description='frame', max=999), Output()), _dom_classes=('widget-int…"
      ]
     },
     "metadata": {},
     "output_type": "display_data"
    }
   ],
   "source": [
    "T = 2.4\n",
    "lattices = simulate(lattice=lattice.copy(), h_J=h_J, T=T, steps=STEPS)\n",
    "\n",
    "gif = lattices_to_images(upscale_lattices(lattices, UP_SCALE))\n",
    "display_experiment(gif)\n",
    "if save:\n",
    "    save_gif(gif, f\"final-presentation/h_J={h_J}-T={T}\")"
   ]
  },
  {
   "cell_type": "code",
   "execution_count": 9,
   "metadata": {},
   "outputs": [
    {
     "data": {
      "application/vnd.jupyter.widget-view+json": {
       "model_id": "5b27a37622b446cfb9a05cb6c47d9947",
       "version_major": 2,
       "version_minor": 0
      },
      "text/plain": [
       "interactive(children=(IntSlider(value=499, description='frame', max=999), Output()), _dom_classes=('widget-int…"
      ]
     },
     "metadata": {},
     "output_type": "display_data"
    }
   ],
   "source": [
    "T = 3\n",
    "lattices = simulate(lattice=lattice.copy(), h_J=h_J, T=T, steps=STEPS)\n",
    "\n",
    "gif = lattices_to_images(upscale_lattices(lattices, UP_SCALE))\n",
    "display_experiment(gif)\n",
    "if save:\n",
    "    save_gif(gif, f\"final-presentation/h_J={h_J}-T={T}\")"
   ]
  },
  {
   "cell_type": "code",
   "execution_count": 10,
   "metadata": {},
   "outputs": [
    {
     "data": {
      "application/vnd.jupyter.widget-view+json": {
       "model_id": "c09e5161adc24818a54d197bdad32ca4",
       "version_major": 2,
       "version_minor": 0
      },
      "text/plain": [
       "interactive(children=(IntSlider(value=499, description='frame', max=999), Output()), _dom_classes=('widget-int…"
      ]
     },
     "metadata": {},
     "output_type": "display_data"
    }
   ],
   "source": [
    "T = 5\n",
    "lattices = simulate(lattice=lattice.copy(), h_J=h_J, T=T, steps=STEPS)\n",
    "\n",
    "gif = lattices_to_images(upscale_lattices(lattices, UP_SCALE))\n",
    "display_experiment(gif)\n",
    "if save:\n",
    "    save_gif(gif, f\"final-presentation/h_J={h_J}-T={T}\")"
   ]
  },
  {
   "cell_type": "code",
   "execution_count": 11,
   "metadata": {},
   "outputs": [
    {
     "data": {
      "application/vnd.jupyter.widget-view+json": {
       "model_id": "a4eab986486b4ef49d24271f10444d6a",
       "version_major": 2,
       "version_minor": 0
      },
      "text/plain": [
       "interactive(children=(IntSlider(value=499, description='frame', max=999), Output()), _dom_classes=('widget-int…"
      ]
     },
     "metadata": {},
     "output_type": "display_data"
    }
   ],
   "source": [
    "T = 10\n",
    "lattices = simulate(lattice=lattice.copy(), h_J=h_J, T=T, steps=STEPS)\n",
    "\n",
    "gif = lattices_to_images(upscale_lattices(lattices, UP_SCALE))\n",
    "display_experiment(gif)\n",
    "if save:\n",
    "    save_gif(gif, f\"final-presentation/h_J={h_J}-T={T}\")"
   ]
  }
 ],
 "metadata": {
  "kernelspec": {
   "display_name": "Python 3",
   "language": "python",
   "name": "python3"
  },
  "language_info": {
   "codemirror_mode": {
    "name": "ipython",
    "version": 3
   },
   "file_extension": ".py",
   "mimetype": "text/x-python",
   "name": "python",
   "nbconvert_exporter": "python",
   "pygments_lexer": "ipython3",
   "version": "3.11.5"
  }
 },
 "nbformat": 4,
 "nbformat_minor": 2
}
