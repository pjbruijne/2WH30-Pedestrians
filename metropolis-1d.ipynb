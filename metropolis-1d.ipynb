{
 "cells": [
  {
   "cell_type": "code",
   "execution_count": 1,
   "metadata": {},
   "outputs": [],
   "source": [
    "from ising.one_dimensional.metropolis import simulate\n",
    "from ising.one_dimensional.lattice import random_lattice\n",
    "from ising.visualize import line_lattices_to_images, display_experiment, save_gif"
   ]
  },
  {
   "cell_type": "code",
   "execution_count": 2,
   "metadata": {},
   "outputs": [],
   "source": [
    "lattice = random_lattice(100, [-1, 1])\n",
    "h_J = 0\n",
    "T = 1"
   ]
  },
  {
   "cell_type": "code",
   "execution_count": 3,
   "metadata": {},
   "outputs": [
    {
     "data": {
      "text/plain": [
       "array([ 1,  1,  1, -1, -1, -1, -1, -1,  1,  1,  1, -1, -1, -1, -1,  1, -1,\n",
       "       -1,  1,  1,  1, -1, -1,  1, -1, -1, -1,  1,  1, -1,  1, -1, -1, -1,\n",
       "        1, -1,  1,  1,  1, -1,  1, -1,  1, -1,  1, -1,  1,  1, -1,  1,  1,\n",
       "       -1, -1, -1, -1, -1,  1, -1, -1,  1,  1, -1,  1, -1, -1,  1,  1,  1,\n",
       "       -1,  1,  1, -1,  1,  1,  1, -1,  1, -1, -1, -1, -1,  1, -1, -1,  1,\n",
       "        1,  1,  1, -1,  1, -1, -1,  1, -1,  1,  1, -1, -1,  1,  1])"
      ]
     },
     "execution_count": 3,
     "metadata": {},
     "output_type": "execute_result"
    }
   ],
   "source": [
    "lattice"
   ]
  },
  {
   "cell_type": "code",
   "execution_count": 4,
   "metadata": {},
   "outputs": [],
   "source": [
    "lattices = simulate(lattice, h_J, T, 1000)\n",
    "gif = line_lattices_to_images(lattices)"
   ]
  },
  {
   "cell_type": "code",
   "execution_count": 6,
   "metadata": {},
   "outputs": [
    {
     "data": {
      "application/vnd.jupyter.widget-view+json": {
       "model_id": "0ac30d6bb78c43d29b4d3ed92a951e51",
       "version_major": 2,
       "version_minor": 0
      },
      "text/plain": [
       "interactive(children=(IntSlider(value=500, description='frame', max=1000), Output()), _dom_classes=('widget-in…"
      ]
     },
     "metadata": {},
     "output_type": "display_data"
    }
   ],
   "source": [
    "display_experiment(gif)\n",
    "save_gif(gif, \"1d-metropolis\")"
   ]
  },
  {
   "cell_type": "code",
   "execution_count": null,
   "metadata": {},
   "outputs": [],
   "source": []
  }
 ],
 "metadata": {
  "kernelspec": {
   "display_name": "Python 3",
   "language": "python",
   "name": "python3"
  },
  "language_info": {
   "codemirror_mode": {
    "name": "ipython",
    "version": 3
   },
   "file_extension": ".py",
   "mimetype": "text/x-python",
   "name": "python",
   "nbconvert_exporter": "python",
   "pygments_lexer": "ipython3",
   "version": "3.11.5"
  }
 },
 "nbformat": 4,
 "nbformat_minor": 2
}
