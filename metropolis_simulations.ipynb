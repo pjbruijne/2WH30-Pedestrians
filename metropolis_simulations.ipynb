{
 "cells": [
  {
   "cell_type": "code",
   "execution_count": 45,
   "metadata": {},
   "outputs": [],
   "source": [
    "import ising.metropolis as metropolis\n",
    "import ising.checkerboard as checkerboard\n",
    "from ising.lattices import square_random_lattice\n",
    "from ising.visualize import display_experiment, upscale_lattices, lattices_to_images"
   ]
  },
  {
   "cell_type": "code",
   "execution_count": 46,
   "metadata": {},
   "outputs": [],
   "source": [
    "WIDTH = 50\n",
    "HEIGHT = 50\n",
    "\n",
    "UP_SCALE = 4"
   ]
  },
  {
   "cell_type": "code",
   "execution_count": 47,
   "metadata": {},
   "outputs": [],
   "source": [
    "lattice = lattice=square_random_lattice(n=HEIGHT, m=WIDTH, states=[-1, 1])"
   ]
  },
  {
   "cell_type": "code",
   "execution_count": 48,
   "metadata": {},
   "outputs": [],
   "source": [
    "latticesM = metropolis.simulate(lattice.copy(), h_J=2, T=1, steps=2000)\n",
    "latticesC = checkerboard.simulate(lattice.copy(), h_J=2, T=1, steps=2000)"
   ]
  },
  {
   "cell_type": "code",
   "execution_count": 49,
   "metadata": {},
   "outputs": [],
   "source": [
    "gifM = lattices_to_images(upscale_lattices(latticesM, 6))\n",
    "gifC = lattices_to_images(upscale_lattices(latticesC, 6))"
   ]
  },
  {
   "cell_type": "code",
   "execution_count": 50,
   "metadata": {},
   "outputs": [
    {
     "data": {
      "application/vnd.jupyter.widget-view+json": {
       "model_id": "67494205a93343f5827423cdae5742ce",
       "version_major": 2,
       "version_minor": 0
      },
      "text/plain": [
       "interactive(children=(IntSlider(value=999, description='frame', max=1999), Output()), _dom_classes=('widget-in…"
      ]
     },
     "metadata": {},
     "output_type": "display_data"
    },
    {
     "data": {
      "text/plain": [
       "<function ising.visualize.display_experiment.<locals>._show(frame=(0, 1999))>"
      ]
     },
     "execution_count": 50,
     "metadata": {},
     "output_type": "execute_result"
    }
   ],
   "source": [
    "from ipywidgets import interact\n",
    "\n",
    "\n",
    "display_experiment(gifC)"
   ]
  },
  {
   "cell_type": "code",
   "execution_count": 51,
   "metadata": {},
   "outputs": [],
   "source": [
    "from ising.visualize import save_gif\n",
    "\n",
    "save_gif(gifM, \"metropolis-final-presentation\")\n",
    "save_gif(gifC, \"checkerboard-final-presentation\")"
   ]
  },
  {
   "cell_type": "code",
   "execution_count": null,
   "metadata": {},
   "outputs": [],
   "source": []
  }
 ],
 "metadata": {
  "kernelspec": {
   "display_name": "Python 3 (ipykernel)",
   "language": "python",
   "name": "python3"
  },
  "language_info": {
   "codemirror_mode": {
    "name": "ipython",
    "version": 3
   },
   "file_extension": ".py",
   "mimetype": "text/x-python",
   "name": "python",
   "nbconvert_exporter": "python",
   "pygments_lexer": "ipython3",
   "version": "3.11.0"
  }
 },
 "nbformat": 4,
 "nbformat_minor": 4
}
