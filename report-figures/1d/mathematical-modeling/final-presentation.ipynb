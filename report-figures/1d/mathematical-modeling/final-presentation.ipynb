{
 "cells": [
  {
   "cell_type": "code",
   "execution_count": 1,
   "metadata": {},
   "outputs": [],
   "source": [
    "from ising.lattices import square_random_lattice\n",
    "from ising.checkerboard import simulate\n",
    "from ising.visualize import lattices_to_images, upscale_lattices, display_experiment, save_gif\n",
    "import matplotlib.pyplot as plt\n",
    "import numpy as np\n",
    "import ising.plot_styling"
   ]
  },
  {
   "cell_type": "code",
   "execution_count": 2,
   "metadata": {},
   "outputs": [],
   "source": [
    "N, M = 150, 150\n",
    "UP_SCALE = 2\n",
    "STEPS = 1000\n",
    "h_J = 0\n",
    "save = True\n",
    "lattice = square_random_lattice(N, M, states=[-1, -1, 1, 1, 1])"
   ]
  },
  {
   "cell_type": "code",
   "execution_count": 12,
   "metadata": {},
   "outputs": [
    {
     "data": {
      "application/vnd.jupyter.widget-view+json": {
       "model_id": "b4482fc9dcb340d39dcdfb51c48b954c",
       "version_major": 2,
       "version_minor": 0
      },
      "text/plain": [
       "interactive(children=(IntSlider(value=499, description='frame', max=999), Output()), _dom_classes=('widget-int…"
      ]
     },
     "metadata": {},
     "output_type": "display_data"
    }
   ],
   "source": [
    "T = 0.5\n",
    "lattices = simulate(lattice=lattice.copy(), h_J=h_J, T=T, steps=STEPS)\n",
    "lattices[-1] = lattice.copy()\n",
    "gif = lattices_to_images(upscale_lattices(lattices, UP_SCALE))\n",
    "display_experiment(gif)\n",
    "if save:\n",
    "    save_gif(gif, f\"final-presentation/h_J={h_J}-T={T}\")"
   ]
  },
  {
   "cell_type": "code",
   "execution_count": 4,
   "metadata": {},
   "outputs": [
    {
     "data": {
      "application/vnd.jupyter.widget-view+json": {
       "model_id": "7a56477400254c498bc1faa598af5a01",
       "version_major": 2,
       "version_minor": 0
      },
      "text/plain": [
       "interactive(children=(IntSlider(value=499, description='frame', max=999), Output()), _dom_classes=('widget-int…"
      ]
     },
     "metadata": {},
     "output_type": "display_data"
    }
   ],
   "source": [
    "T = 1\n",
    "lattices = simulate(lattice=lattice.copy(), h_J=h_J, T=T, steps=STEPS)\n",
    "\n",
    "gif = lattices_to_images(upscale_lattices(lattices, UP_SCALE))\n",
    "display_experiment(gif)\n",
    "if save:\n",
    "    save_gif(gif, f\"final-presentation/h_J={h_J}-T={T}\")"
   ]
  },
  {
   "cell_type": "code",
   "execution_count": 5,
   "metadata": {},
   "outputs": [
    {
     "data": {
      "application/vnd.jupyter.widget-view+json": {
       "model_id": "6893b532ffae4eac969a876536727829",
       "version_major": 2,
       "version_minor": 0
      },
      "text/plain": [
       "interactive(children=(IntSlider(value=499, description='frame', max=999), Output()), _dom_classes=('widget-int…"
      ]
     },
     "metadata": {},
     "output_type": "display_data"
    }
   ],
   "source": [
    "T = 2\n",
    "lattices = simulate(lattice=lattice.copy(), h_J=h_J, T=T, steps=STEPS)\n",
    "\n",
    "gif = lattices_to_images(upscale_lattices(lattices, UP_SCALE))\n",
    "display_experiment(gif)\n",
    "if save:\n",
    "    save_gif(gif, f\"final-presentation/h_J={h_J}-T={T}\")"
   ]
  },
  {
   "cell_type": "code",
   "execution_count": 6,
   "metadata": {},
   "outputs": [
    {
     "data": {
      "application/vnd.jupyter.widget-view+json": {
       "model_id": "6ea40495b7ac4a07b0760cb35d6bb0e0",
       "version_major": 2,
       "version_minor": 0
      },
      "text/plain": [
       "interactive(children=(IntSlider(value=499, description='frame', max=999), Output()), _dom_classes=('widget-int…"
      ]
     },
     "metadata": {},
     "output_type": "display_data"
    }
   ],
   "source": [
    "T = 2.2\n",
    "lattices = simulate(lattice=lattice.copy(), h_J=h_J, T=T, steps=STEPS)\n",
    "\n",
    "gif = lattices_to_images(upscale_lattices(lattices, UP_SCALE))\n",
    "display_experiment(gif)\n",
    "if save:\n",
    "    save_gif(gif, f\"final-presentation/h_J={h_J}-T={T}\")"
   ]
  },
  {
   "cell_type": "code",
   "execution_count": 7,
   "metadata": {},
   "outputs": [
    {
     "data": {
      "application/vnd.jupyter.widget-view+json": {
       "model_id": "72800da79ef940edbdff8d6c98c11574",
       "version_major": 2,
       "version_minor": 0
      },
      "text/plain": [
       "interactive(children=(IntSlider(value=499, description='frame', max=999), Output()), _dom_classes=('widget-int…"
      ]
     },
     "metadata": {},
     "output_type": "display_data"
    }
   ],
   "source": [
    "T = 2.3\n",
    "lattices = simulate(lattice=lattice.copy(), h_J=h_J, T=T, steps=STEPS)\n",
    "\n",
    "gif = lattices_to_images(upscale_lattices(lattices, UP_SCALE))\n",
    "display_experiment(gif)\n",
    "if save:\n",
    "    save_gif(gif, f\"final-presentation/h_J={h_J}-T={T}\")"
   ]
  },
  {
   "cell_type": "code",
   "execution_count": 8,
   "metadata": {},
   "outputs": [
    {
     "data": {
      "application/vnd.jupyter.widget-view+json": {
       "model_id": "86691d71712a4cb0810086b19fc54bb3",
       "version_major": 2,
       "version_minor": 0
      },
      "text/plain": [
       "interactive(children=(IntSlider(value=499, description='frame', max=999), Output()), _dom_classes=('widget-int…"
      ]
     },
     "metadata": {},
     "output_type": "display_data"
    }
   ],
   "source": [
    "T = 2.4\n",
    "lattices = simulate(lattice=lattice.copy(), h_J=h_J, T=T, steps=STEPS)\n",
    "\n",
    "gif = lattices_to_images(upscale_lattices(lattices, UP_SCALE))\n",
    "display_experiment(gif)\n",
    "if save:\n",
    "    save_gif(gif, f\"final-presentation/h_J={h_J}-T={T}\")"
   ]
  },
  {
   "cell_type": "code",
   "execution_count": 9,
   "metadata": {},
   "outputs": [
    {
     "data": {
      "application/vnd.jupyter.widget-view+json": {
       "model_id": "0ca9d9254b3a4e29bbfc545b78590a1b",
       "version_major": 2,
       "version_minor": 0
      },
      "text/plain": [
       "interactive(children=(IntSlider(value=499, description='frame', max=999), Output()), _dom_classes=('widget-int…"
      ]
     },
     "metadata": {},
     "output_type": "display_data"
    }
   ],
   "source": [
    "T = 3\n",
    "lattices = simulate(lattice=lattice.copy(), h_J=h_J, T=T, steps=STEPS)\n",
    "\n",
    "gif = lattices_to_images(upscale_lattices(lattices, UP_SCALE))\n",
    "display_experiment(gif)\n",
    "if save:\n",
    "    save_gif(gif, f\"final-presentation/h_J={h_J}-T={T}\")"
   ]
  },
  {
   "cell_type": "code",
   "execution_count": 10,
   "metadata": {},
   "outputs": [
    {
     "data": {
      "application/vnd.jupyter.widget-view+json": {
       "model_id": "bb856470296143b9af3e3782dd966420",
       "version_major": 2,
       "version_minor": 0
      },
      "text/plain": [
       "interactive(children=(IntSlider(value=499, description='frame', max=999), Output()), _dom_classes=('widget-int…"
      ]
     },
     "metadata": {},
     "output_type": "display_data"
    }
   ],
   "source": [
    "T = 5\n",
    "lattices = simulate(lattice=lattice.copy(), h_J=h_J, T=T, steps=STEPS)\n",
    "\n",
    "gif = lattices_to_images(upscale_lattices(lattices, UP_SCALE))\n",
    "display_experiment(gif)\n",
    "if save:\n",
    "    save_gif(gif, f\"final-presentation/h_J={h_J}-T={T}\")"
   ]
  },
  {
   "cell_type": "code",
   "execution_count": 11,
   "metadata": {},
   "outputs": [
    {
     "data": {
      "application/vnd.jupyter.widget-view+json": {
       "model_id": "f4c6a30a1b7642e2a8d3b71faeb58e99",
       "version_major": 2,
       "version_minor": 0
      },
      "text/plain": [
       "interactive(children=(IntSlider(value=499, description='frame', max=999), Output()), _dom_classes=('widget-int…"
      ]
     },
     "metadata": {},
     "output_type": "display_data"
    }
   ],
   "source": [
    "T = 10\n",
    "lattices = simulate(lattice=lattice.copy(), h_J=h_J, T=T, steps=STEPS)\n",
    "\n",
    "gif = lattices_to_images(upscale_lattices(lattices, UP_SCALE))\n",
    "display_experiment(gif)\n",
    "if save:\n",
    "    save_gif(gif, f\"final-presentation/h_J={h_J}-T={T}\")"
   ]
  }
 ],
 "metadata": {
  "kernelspec": {
   "display_name": "Python 3",
   "language": "python",
   "name": "python3"
  },
  "language_info": {
   "codemirror_mode": {
    "name": "ipython",
    "version": 3
   },
   "file_extension": ".py",
   "mimetype": "text/x-python",
   "name": "python",
   "nbconvert_exporter": "python",
   "pygments_lexer": "ipython3",
   "version": "3.11.5"
  }
 },
 "nbformat": 4,
 "nbformat_minor": 2
}
