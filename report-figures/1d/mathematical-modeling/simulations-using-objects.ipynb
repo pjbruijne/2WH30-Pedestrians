{
 "cells": [
  {
   "cell_type": "code",
   "execution_count": 1,
   "metadata": {},
   "outputs": [],
   "source": [
    "import ising.metropolis as metropolis\n",
    "from ising.visualize import display_experiment\n",
    "from ising.lattice_objects import *\n",
    "from ising.data_analysis import *"
   ]
  },
  {
   "cell_type": "code",
   "execution_count": 2,
   "metadata": {},
   "outputs": [],
   "source": [
    "WIDTH = 50\n",
    "HEIGHT = 50\n",
    "\n",
    "UP_SCALE = 4"
   ]
  },
  {
   "cell_type": "code",
   "execution_count": 3,
   "metadata": {},
   "outputs": [],
   "source": [
    "#lattices = metropolis.simulate(lattice=square_random_lattice(width=WIDTH, height=HEIGHT, states=[-1, 0, 1]), J=0.2, B=2, T=120, steps=1000)\n",
    "X = squarelattice2d(WIDTH, HEIGHT)\n"
   ]
  },
  {
   "cell_type": "code",
   "execution_count": 4,
   "metadata": {},
   "outputs": [],
   "source": [
    "X.simulate(0.2, 2, 120, 10000)\n",
    "gif = X.lattices_to_images(UP_SCALE)\n",
    "selectedSimulations = X.simulation[-100:]\n"
   ]
  },
  {
   "cell_type": "code",
   "execution_count": null,
   "metadata": {},
   "outputs": [],
   "source": [
    "lattice = X.simulation[-1]\n",
    "#expSpin:float = lattice.sum(dtype=float) / lattice.size\n",
    "#width, height = lattice.shape\n",
    "#x:int = np.random.randint(width)\n",
    "#y:int = np.random.randint(height)\n",
    "#spinProduct:np.ndarray[int,int] = lattice[x,y] * lattice\n",
    "#expSpinProduct:float = spinProduct.sum(dtype=float) / spinProduct.size\n",
    "#expSpin, expSpinProduct, expSpinProduct - expSpin**2\n",
    "\n",
    "getCorrelationCoefficient((5,7), lattice), getCorrelationCoefficient_2((5,7),X.simulation), "
   ]
  },
  {
   "cell_type": "code",
   "execution_count": 5,
   "metadata": {},
   "outputs": [
    {
     "data": {
      "text/plain": [
       "array([ 1.00010000e+00,  2.75469388e-02,  1.68145833e-02,  2.07787234e-02,\n",
       "        2.97826087e-03,  8.51555556e-03,  5.44590909e-02,  2.46744186e-02,\n",
       "       -2.63404762e-02,  1.01292683e-02, -2.31275000e-02,  1.57948718e-03,\n",
       "        1.61342105e-02, -2.98702703e-02,  7.76111111e-03,  4.79171429e-02,\n",
       "        2.10588235e-02, -2.27272727e-04, -1.43718750e-02, -1.42612903e-02,\n",
       "       -4.39033333e-02,  1.74344828e-02,  4.88285714e-02, -1.69000000e-02,\n",
       "       -1.21500000e-02, -7.16760000e-02, -6.89583333e-02, -1.05130435e-02,\n",
       "       -2.02409091e-02,  2.45809524e-02,  3.25000000e-02,  2.64578947e-02,\n",
       "        1.13944444e-02, -1.45941176e-02, -1.25000000e-03,  2.20000000e-04,\n",
       "       -2.84714286e-02, -1.80615385e-02, -9.69166667e-02, -1.49818182e-02,\n",
       "        1.83200000e-02, -6.75555556e-03,  6.83750000e-03,  6.61571429e-02,\n",
       "        7.35666667e-02,  3.37600000e-02,  3.91250000e-02, -1.13000000e-02,\n",
       "        2.53500000e-02, -3.28500000e-01])"
      ]
     },
     "execution_count": 5,
     "metadata": {},
     "output_type": "execute_result"
    }
   ],
   "source": [
    "c = getCorrelationCoefficient_3(selectedSimulations)\n",
    "c"
   ]
  },
  {
   "cell_type": "code",
   "execution_count": 6,
   "metadata": {},
   "outputs": [
    {
     "data": {
      "text/plain": [
       "array([ 0.95656637, -0.01598669, -0.02671904, -0.0227549 , -0.04055537,\n",
       "       -0.03501807,  0.01092546, -0.01885921, -0.0698741 , -0.03340436,\n",
       "       -0.06666113, -0.04195414, -0.02739942, -0.0734039 , -0.03577252,\n",
       "        0.00438352, -0.0224748 , -0.0437609 , -0.0579055 , -0.05779492,\n",
       "       -0.08743696, -0.02609914,  0.00529494, -0.06043363, -0.05568363,\n",
       "       -0.11520963, -0.11249196, -0.05404667, -0.06377454, -0.01895267,\n",
       "       -0.01103363, -0.01707573, -0.03213918, -0.05812774, -0.04478363,\n",
       "       -0.04331363, -0.07200506, -0.06159517, -0.14045029, -0.05851545,\n",
       "       -0.02521363, -0.05028918, -0.03669613,  0.02262352,  0.03003304,\n",
       "       -0.00977363, -0.00440863, -0.05483363, -0.01818363, -0.37203363])"
      ]
     },
     "execution_count": 6,
     "metadata": {},
     "output_type": "execute_result"
    }
   ],
   "source": [
    "\n",
    "d = c - (sum([Y.sum(dtype=float)/len(Y) for Y in selectedSimulations])/len(selectedSimulations))**2\n",
    "d\n"
   ]
  },
  {
   "cell_type": "code",
   "execution_count": 7,
   "metadata": {},
   "outputs": [
    {
     "data": {
      "text/plain": [
       "(array([ 1.0001 ,  0.0191 ,  0.19175,  0.2753 , -0.27485, -0.08575,\n",
       "         0.018  , -0.3347 , -0.0703 ,  0.00335, -0.02975, -0.0106 ,\n",
       "         0.0031 , -0.1414 ,  0.19925, -0.08745, -0.18445, -0.36855,\n",
       "         0.21085, -0.35855, -0.09605,  0.097  ,  0.4502 ,  0.29105,\n",
       "        -0.0228 ]),\n",
       " array([ 0.9713755 ,  0.01923557,  0.18344786,  0.26437621, -0.26503283,\n",
       "        -0.08034912,  0.01907103, -0.3203835 , -0.0687443 ,  0.00434816,\n",
       "        -0.03019231, -0.00917987,  0.00558098, -0.13602792,  0.19221885,\n",
       "        -0.08539777, -0.17724939, -0.35685853,  0.20317488, -0.34187962,\n",
       "        -0.0936385 ,  0.09371236,  0.43658509,  0.28017875, -0.01925138]))"
      ]
     },
     "execution_count": 7,
     "metadata": {},
     "output_type": "execute_result"
    }
   ],
   "source": [
    "c2,d2 = getCorrelationCoefficient_4((25,25), selectedSimulations)\n",
    "c2,d2"
   ]
  },
  {
   "cell_type": "code",
   "execution_count": 8,
   "metadata": {},
   "outputs": [
    {
     "data": {
      "text/plain": [
       "array([1.        , 0.84089642, 0.75983569, 0.70710678, 0.6687403 ,\n",
       "       0.6389431 , 0.61478815, 0.59460356, 0.57735027, 0.56234133,\n",
       "       0.54910049, 0.53728497, 0.52664039, 0.51697315, 0.50813275,\n",
       "       0.5       , 0.49247906, 0.48549177, 0.47897363, 0.4728708 ,\n",
       "       0.46713798, 0.46173663, 0.45663379, 0.451801  , 0.4472136 ,\n",
       "       0.44285001, 0.43869134, 0.43472087, 0.43092382, 0.42728701,\n",
       "       0.42379866, 0.42044821, 0.41722614, 0.41412388, 0.41113362,\n",
       "       0.40824829, 0.40546145, 0.4027672 , 0.40016016, 0.39763536,\n",
       "       0.39518826, 0.39281465, 0.39051065, 0.38827268, 0.3860974 ,\n",
       "       0.38398171, 0.38192276, 0.37991784, 0.37796447, 0.37606031])"
      ]
     },
     "execution_count": 8,
     "metadata": {},
     "output_type": "execute_result"
    }
   ],
   "source": [
    "n:int = len(c)\n",
    "np.fromfunction(function=(lambda r : (r+1)**(-0.25)),shape=(n,), dtype=float)\n"
   ]
  },
  {
   "cell_type": "code",
   "execution_count": null,
   "metadata": {},
   "outputs": [],
   "source": [
    "from ipywidgets import interact\n",
    "\n",
    "\n",
    "display_experiment(gif)"
   ]
  },
  {
   "cell_type": "code",
   "execution_count": null,
   "metadata": {},
   "outputs": [],
   "source": [
    "from ising.visualize import save_gif\n",
    "\n",
    "save_gif(gif, \"5-states-example\")"
   ]
  },
  {
   "cell_type": "code",
   "execution_count": null,
   "metadata": {},
   "outputs": [],
   "source": [
    "from ising.visualize import split_gif\n",
    "\n",
    "split_gif(\"simulation-results/3-states-example\", num_key_frames=25)"
   ]
  },
  {
   "cell_type": "code",
   "execution_count": null,
   "metadata": {},
   "outputs": [],
   "source": [
    "import cv2\n",
    "import numpy as np\n",
    "\n",
    "def save_video(images: [np.array], filename: str) -> None:\n",
    "    \"\"\"Save simulation as video (.avi format).\"\"\"\n",
    "\n",
    "    video = cv2.VideoWriter(\n",
    "        f\"simulation-results/{filename}.avi\", cv2.VideoWriter_fourcc(*\"I420\"), 24\n",
    "    )\n",
    "    for image in images:\n",
    "        video.write(image)\n",
    "\n",
    "    return video\n",
    "\n",
    "\n",
    "\n"
   ]
  },
  {
   "cell_type": "code",
   "execution_count": null,
   "metadata": {},
   "outputs": [],
   "source": []
  }
 ],
 "metadata": {
  "kernelspec": {
   "display_name": "Python 3 (ipykernel)",
   "language": "python",
   "name": "python3"
  },
  "language_info": {
   "codemirror_mode": {
    "name": "ipython",
    "version": 3
   },
   "file_extension": ".py",
   "mimetype": "text/x-python",
   "name": "python",
   "nbconvert_exporter": "python",
   "pygments_lexer": "ipython3",
   "version": "3.11.2"
  }
 },
 "nbformat": 4,
 "nbformat_minor": 4
}
