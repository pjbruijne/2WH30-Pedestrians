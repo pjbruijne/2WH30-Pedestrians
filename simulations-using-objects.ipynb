{
 "cells": [
  {
   "cell_type": "code",
   "execution_count": null,
   "metadata": {},
   "outputs": [],
   "source": [
    "import ising.metropolis as metropolis\n",
    "from ising.lattices import square_random_lattice\n",
    "from ising.visualize import display_experiment, upscale_lattices, lattices_to_images\n",
    "from ising.lattice_objects import *"
   ]
  },
  {
   "cell_type": "code",
   "execution_count": null,
   "metadata": {},
   "outputs": [],
   "source": [
    "WIDTH = 30\n",
    "HEIGHT = 30\n",
    "\n",
    "UP_SCALE = 4"
   ]
  },
  {
   "cell_type": "code",
   "execution_count": null,
   "metadata": {},
   "outputs": [],
   "source": [
    "#lattices = metropolis.simulate(lattice=square_random_lattice(width=WIDTH, height=HEIGHT, states=[-1, 0, 1]), J=0.2, B=2, T=120, steps=1000)\n",
    "X = squarelattice2d(WIDTH, HEIGHT)\n"
   ]
  },
  {
   "cell_type": "code",
   "execution_count": null,
   "metadata": {},
   "outputs": [],
   "source": [
    "X.simulate(0.2, 2, 120, 10000)\n",
    "gif = X.lattices_to_images(UP_SCALE)"
   ]
  },
  {
   "cell_type": "code",
   "execution_count": null,
   "metadata": {},
   "outputs": [],
   "source": [
    "from ipywidgets import interact\n",
    "\n",
    "\n",
    "display_experiment(gif)"
   ]
  },
  {
   "cell_type": "code",
   "execution_count": null,
   "metadata": {},
   "outputs": [],
   "source": [
    "from ising.visualize import save_gif\n",
    "\n",
    "save_gif(gif, \"5-states-example\")"
   ]
  },
  {
   "cell_type": "code",
   "execution_count": null,
   "metadata": {},
   "outputs": [],
   "source": [
    "from ising.visualize import split_gif\n",
    "\n",
    "split_gif(\"simulation-results/3-states-example\", num_key_frames=25)"
   ]
  },
  {
   "cell_type": "code",
   "execution_count": null,
   "metadata": {},
   "outputs": [],
   "source": [
    "import cv2\n",
    "import numpy as np\n",
    "\n",
    "def save_video(images: [np.array], filename: str) -> None:\n",
    "    \"\"\"Save simulation as video (.avi format).\"\"\"\n",
    "\n",
    "    video = cv2.VideoWriter(\n",
    "        f\"simulation-results/{filename}.avi\", cv2.VideoWriter_fourcc(*\"I420\"), 24\n",
    "    )\n",
    "    for image in images:\n",
    "        video.write(image)\n",
    "\n",
    "    return video\n",
    "\n",
    "\n",
    "\n"
   ]
  },
  {
   "cell_type": "code",
   "execution_count": null,
   "metadata": {},
   "outputs": [],
   "source": []
  }
 ],
 "metadata": {
  "kernelspec": {
   "display_name": "Python 3 (ipykernel)",
   "language": "python",
   "name": "python3"
  },
  "language_info": {
   "codemirror_mode": {
    "name": "ipython",
    "version": 3
   },
   "file_extension": ".py",
   "mimetype": "text/x-python",
   "name": "python",
   "nbconvert_exporter": "python",
   "pygments_lexer": "ipython3",
   "version": "3.11.2"
  }
 },
 "nbformat": 4,
 "nbformat_minor": 4
}
